{
 "cells": [
  {
   "cell_type": "markdown",
   "metadata": {
    "id": "ZaLHjbgl4sdC"
   },
   "source": [
    "# Computer Vision (Image operators and filters)\n",
    "\n",
    "By the end of this lab, you will get hands on experience working with:\n",
    "\n",
    "*   Image Handling\n",
    "*   Image Manipulation\n",
    "*   Histogram and Histogram Equalization\n",
    "*   Basic filtering techniques\n",
    "\n",
    "<!-- ### **Remember this is a graded exercise.** -->\n",
    "\n",
    "**Reminder**:\n",
    "\n",
    "*   For every plot, make sure you provide appropriate titles, axis labels, legends, wherever applicable.\n",
    "*   Add sufficient comments and explanations wherever necessary.\n",
    "\n",
    "---\n"
   ]
  },
  {
   "cell_type": "code",
   "execution_count": 2,
   "metadata": {
    "id": "BuqI1scQ4imT"
   },
   "outputs": [],
   "source": [
    "# Loading necessary libraries (Feel free to add new libraries if you need for any computation)\n",
    "import numpy as np\n",
    "from matplotlib import pyplot as plt\n",
    "from skimage import data, exposure, filters, io, morphology "
   ]
  },
  {
   "cell_type": "markdown",
   "metadata": {
    "id": "OV5XxAg85xJ_"
   },
   "source": [
    "# Channels and color spaces\n",
    "\n",
    "### **Exercise: Image Creation and Color Manipulation**\n",
    "\n",
    "*   Create a 100 x 100 image for each of the below visualization\n",
    "\n",
    "\n",
    "\n",
    "*   Visualize the created images in a 1 x 3 subplot using matplotlib.\n"
   ]
  },
  {
   "cell_type": "code",
   "execution_count": null,
   "metadata": {
    "id": "SvftuOlr5woU"
   },
   "outputs": [],
   "source": [
    "# solution\n",
    "import numpy as np\n",
    "import matplotlib.pyplot as plt\n",
    "\n",
    "img1 = np.zeros((100, 100), dtype=np.uint8)\n",
    "img1[:, 50:] = 255  \n",
    "\n",
    "img2 = np.zeros((100, 100), dtype=np.uint8)\n",
    "img2[50:, :] = 255  \n",
    "\n",
    "img3 = np.zeros((100, 100), dtype=np.uint8)\n",
    "img3[:50, :50] = 255  \n",
    "\n",
    "fig, axes = plt.subplots(1, 3, figsize=(9, 3))\n",
    "\n",
    "axes[0].imshow(img1, cmap='gray')\n",
    "axes[0].axis('off')\n",
    "\n",
    "axes[1].imshow(img2, cmap='gray')\n",
    "axes[1].axis('off')\n",
    "\n",
    "axes[2].imshow(img3, cmap='gray')\n",
    "axes[2].axis('off')\n",
    "\n",
    "plt.show()\n",
    "\n"
   ]
  },
  {
   "cell_type": "markdown",
   "metadata": {
    "id": "kJ52BL-WrWV-"
   },
   "source": [
    "*   Use the above three images to create the following image\n",
    "\n"
   ]
  },
  {
   "cell_type": "code",
   "execution_count": null,
   "metadata": {
    "id": "VjFNuJ4Rraiw"
   },
   "outputs": [],
   "source": [
    "# Create a 100x100 image with four color quadrants\n",
    "image_combined = np.zeros((100, 100, 3), dtype=np.uint8)\n",
    "\n",
    "# Top-left (Blue)\n",
    "image_combined[:50, :50, 2] = 255 \n",
    "# Top-right (Red)\n",
    "image_combined[:50, 50:, 0] = 255  \n",
    "# Bottom-left (Green)\n",
    "image_combined[50:, :50, 1] = 255  \n",
    "\n",
    "# Bottom-right (Yellow = Red + Green)\n",
    "image_combined[50:, 50:, 0] = 255  # Red \n",
    "image_combined[50:, 50:, 1] = 255  # Green \n",
    "\n",
    "# Display the image\n",
    "plt.imshow(image_combined)\n",
    "plt.title(\"Combined Image\")\n",
    "plt.axis(\"off\")\n",
    "plt.show()"
   ]
  },
  {
   "cell_type": "markdown",
   "metadata": {
    "id": "e3jnTbnqIkN_"
   },
   "source": [
    "### **Exercise: Color Manipulation**\n",
    "\n",
    "*   Read the image 'sillas.jpg' from the images folder\n",
    "\n",
    "\n",
    "\n",
    "*   Extract individual channels and plot them using matplotlib subplot.\n",
    "\n"
   ]
  },
  {
   "cell_type": "code",
   "execution_count": null,
   "metadata": {
    "id": "6T8NHYIAJ7fr"
   },
   "outputs": [],
   "source": [
    "\n",
    "# solution\n",
    "import cv2\n",
    "\n",
    "# Read the image 'sillas.jpg'\n",
    "image = cv2.imread('/Users/mayaralthebati/Desktop/EXC-ACADMY/sillas.jpg')\n",
    "image = cv2.cvtColor(image, cv2.COLOR_BGR2RGB)  \n",
    "\n",
    "# Extract individual color channels\n",
    "red_channel = image[:, :, 0]\n",
    "green_channel = image[:, :, 1]\n",
    "blue_channel = image[:, :, 2]\n",
    "\n",
    "# Plot the original image and the three channels\n",
    "fig, axes = plt.subplots(1, 4, figsize=(15, 5))\n",
    "\n",
    "axes[0].imshow(image)\n",
    "axes[0].set_title(\"sillas.jpg\")\n",
    "axes[0].axis(\"off\")\n",
    "\n",
    "axes[1].imshow(red_channel, cmap='Reds')\n",
    "axes[1].set_title(\"sillas.jpg Red Channel\")\n",
    "axes[1].axis(\"off\")\n",
    "\n",
    "axes[2].imshow(green_channel, cmap='Greens')\n",
    "axes[2].set_title(\"sillas.jpg Green Channel\")\n",
    "axes[2].axis(\"off\")\n",
    "\n",
    "axes[3].imshow(blue_channel, cmap='Blues')\n",
    "axes[3].set_title(\"sillas.jpg Blue Channel\")\n",
    "axes[3].axis(\"off\")\n",
    "\n",
    "plt.show()"
   ]
  },
  {
   "cell_type": "markdown",
   "metadata": {
    "id": "v2KsIGB8shvy"
   },
   "source": [
    "*   The color **red** looks too bright for the eyes. Isn't it?? Lets change the color and see how it appears.\n",
    "    *    Create a new image where everything that is **'red' is changed to 'blue'**.\n",
    "*   Visualize the original image and the created image using matplotlib subplot."
   ]
  },
  {
   "cell_type": "code",
   "execution_count": null,
   "metadata": {
    "id": "111KEZossmpl"
   },
   "outputs": [],
   "source": [
    "# solution\n",
    "# Read the image 'sillas.jpg'\n",
    "image = cv2.imread('/Users/mayaralthebati/Desktop/EXC-ACADMY/sillas.jpg')\n",
    "image = cv2.cvtColor(image, cv2.COLOR_BGR2RGB)  # Convert BGR to RGB\n",
    "\n",
    "# Create a new image where red is changed to blue\n",
    "modified_image = image.copy()\n",
    "red_mask = (image[:, :, 0] > 150) & (image[:, :, 1] < 100) & (image[:, :, 2] < 100)  # Used to identify red pixels\n",
    "modified_image[red_mask, 0] = 0   # Remove red\n",
    "modified_image[red_mask, 1] = 0   # Remove green\n",
    "modified_image[red_mask, 2] = 255  # Set blue\n",
    "\n",
    "# Plot original image\n",
    "fig, axes = plt.subplots(1, 2, figsize=(10, 5))\n",
    "axes[0].imshow(image)\n",
    "axes[0].set_title(\"sillas.jpg\")\n",
    "axes[0].axis(\"off\")\n",
    "\n",
    "# Plot modified image\n",
    "axes[1].imshow(modified_image)\n",
    "axes[1].set_title(\"sillas.jpg Modified (Red to Blue)\")\n",
    "axes[1].axis(\"off\")\n",
    "\n",
    "plt.show()"
   ]
  },
  {
   "cell_type": "markdown",
   "metadata": {
    "id": "I7ILNRvsJ9fm"
   },
   "source": [
    "# Image Manipulation\n",
    "\n",
    "### **Exercise: Image Operators**\n",
    "\n",
    "*   You can find images 'model.png' and 'coat.png' in the images folder (First two images of the below visualization). Your task is to create an image from the given two images such a way that the model is wearing the coat (Third image in the visualization).\n",
    "*   You can also find different textures in the images folder. Your task is to change the coat texture to any one of the given textures.\n",
    "*   Visualize the images similar to the given visualization.\n",
    "\n",
    "*Hint: Think masks!!!*\n",
    "\n"
   ]
  },
  {
   "cell_type": "code",
   "execution_count": null,
   "metadata": {
    "id": "GVfOvZnCH4pK"
   },
   "outputs": [],
   "source": [
    "# solution\n",
    "import cv2\n",
    "import numpy as np\n",
    "import matplotlib.pyplot as plt\n",
    "\n",
    "model = cv2.imread('/Users/mayaralthebati/Desktop/EXC-ACADMY/model.png')\n",
    "coat = cv2.imread('/Users/mayaralthebati/Desktop/EXC-ACADMY/coat.png')\n",
    "texture = cv2.imread('/Users/mayaralthebati/Desktop/EXC-ACADMY/texture2.png')  \n",
    "\n",
    "# Convert images to RGB\n",
    "model = cv2.cvtColor(model, cv2.COLOR_BGR2RGB)\n",
    "coat = cv2.cvtColor(coat, cv2.COLOR_BGR2RGB)\n",
    "texture = cv2.cvtColor(texture, cv2.COLOR_BGR2RGB)\n",
    "\n",
    "# Create a mask to extract the coat area\n",
    "coat_gray = cv2.cvtColor(coat, cv2.COLOR_RGB2GRAY)\n",
    "_, mask = cv2.threshold(coat_gray, 1, 255, cv2.THRESH_BINARY)\n",
    "\n",
    "# Ensure the coat fits onto the model\n",
    "coat_resized = cv2.resize(coat, (model.shape[1], model.shape[0]))\n",
    "mask_resized = cv2.resize(mask, (model.shape[1], model.shape[0]))\n",
    "\n",
    "# Overlay the coat onto the model\n",
    "model_with_coat = model.copy()\n",
    "model_with_coat[mask_resized > 0] = coat_resized[mask_resized > 0]\n",
    "\n",
    "# Apply the texture to the coat area\n",
    "texture_resized = cv2.resize(texture, (coat_resized.shape[1], coat_resized.shape[0]))\n",
    "coat_textured = coat_resized.copy()\n",
    "coat_textured[mask_resized > 0] = texture_resized[mask_resized > 0]\n",
    "\n",
    "# Overlay the textured coat onto the model\n",
    "model_with_textured_coat = model.copy()\n",
    "model_with_textured_coat[mask_resized > 0] = coat_textured[mask_resized > 0]\n",
    "\n",
    "# Plot the images\n",
    "#Model\n",
    "fig, axes = plt.subplots(1, 4, figsize=(20, 5))\n",
    "axes[1].imshow(model)\n",
    "axes[1].set_title(\"Model\")\n",
    "axes[1].axis(\"off\")\n",
    "\n",
    "# Coat\n",
    "axes[0].imshow(coat)\n",
    "axes[0].set_title(\"Coat\")\n",
    "axes[0].axis(\"off\")\n",
    "\n",
    "#Model with coat\n",
    "axes[2].imshow(model_with_coat)\n",
    "axes[2].set_title(\"Model with Coat\")\n",
    "axes[2].axis(\"off\")\n",
    "\n",
    "#Model with textured coat\n",
    "axes[3].imshow(model_with_textured_coat)\n",
    "axes[3].set_title(\"Model with Textured Coat\")\n",
    "axes[3].axis(\"off\")\n",
    "\n",
    "plt.show()\n"
   ]
  },
  {
   "cell_type": "markdown",
   "metadata": {
    "id": "aTEmlIhY0w46"
   },
   "source": [
    "# Contrast Enhancement\n",
    "\n",
    "### **Exercise: Histogram Computation**\n",
    "\n",
    "*   Read the **'astronaut' image** from data module.\n",
    "*   Convert the image to grayscale.\n",
    "*   Compute the **histogram of the image.** *Hint: histogram function is available in skimage.exposure package*\n",
    "*   Plot the histogram using matplotlib plot.\n",
    "\n",
    "\n"
   ]
  },
  {
   "cell_type": "code",
   "execution_count": null,
   "metadata": {
    "id": "Pkh-HIjW2SBW"
   },
   "outputs": [],
   "source": [
    "# solution\n",
    "from skimage import data, color, exposure\n",
    "\n",
    "# Contrast Enhancement - Histogram Computation\n",
    "astronaut = data.astronaut()\n",
    "astronaut_gray = color.rgb2gray(astronaut)\n",
    "\n",
    "# Compute histogram\n",
    "hist, bin_centers = exposure.histogram(astronaut_gray)\n",
    "\n",
    "# Plot grayscale image and histogram\n",
    "fig, axes = plt.subplots(1, 2, figsize=(12, 5))\n",
    "axes[0].imshow(astronaut_gray, cmap='gray')\n",
    "axes[0].set_title(\"Astronaut\")\n",
    "axes[0].axis(\"off\")\n",
    "\n",
    "axes[1].plot(bin_centers, hist, lw=2)\n",
    "axes[1].set_title(\"Histogram\")\n",
    "axes[1].set_xlabel(\"Pixel intensity\")\n",
    "axes[1].set_ylabel(\"Frequency\")\n",
    "\n",
    "plt.show()\n"
   ]
  },
  {
   "cell_type": "markdown",
   "metadata": {
    "id": "mIeB6eUYs-lR"
   },
   "source": [
    "*   Change the bin count to 8 and compute the histogram of the image and plot the computed histogram using matplotlib plot."
   ]
  },
  {
   "cell_type": "code",
   "execution_count": null,
   "metadata": {
    "id": "UXxj9_ZptB0_"
   },
   "outputs": [],
   "source": [
    "hist, bin_edges = np.histogram(astronaut_gray, bins=8, range=(0, 1))\n",
    "\n",
    "# Plot grayscale image and histogram\n",
    "fig, axes = plt.subplots(1, 2, figsize=(12, 5))\n",
    "axes[0].imshow(astronaut_gray, cmap='gray')\n",
    "axes[0].set_title(\"Astronaut\")\n",
    "axes[0].axis(\"off\")\n",
    "\n",
    "axes[1].bar(bin_edges[:-1], hist, width=np.diff(bin_edges), edgecolor=\"black\", align=\"edge\")\n",
    "axes[1].set_title(\"Histogram with 8 Bins\")\n",
    "axes[1].set_xlabel(\"Pixel Intensity\")\n",
    "axes[1].set_ylabel(\"Frequency\")\n",
    "\n",
    "plt.show()\n"
   ]
  },
  {
   "cell_type": "markdown",
   "metadata": {
    "id": "NyBcGEtEJXP_"
   },
   "source": [
    "\n",
    "\n",
    "*   What happens when you change the bin count? Does your inference change based on the bin count? If yes, then how do you define the correct bin count.\n",
    "*   What happens when the bin count is very low and what happens when it is very high?\n",
    "\n"
   ]
  },
  {
   "cell_type": "markdown",
   "metadata": {
    "id": "tw8L1ZKvKOvo"
   },
   "source": [
    "**Solution**\n",
    "\n",
    "*(Double-click or enter to edit)*\n",
    "\n",
    "*1- How does adjusting the bin count affect the histogram? Changing the number of bins modifies the histogram's clarity. Fewer bins create a rough overview, while more bins allow for a clearer, more detailed representation.*\n",
    "\n",
    "2- Does the bin count influence your interpretation? Absolutely. A smaller bin count can lead to a simplistic view, while a larger bin count reveals finer distinctions in intensity levels.\n",
    "\n",
    "3- How can one determine the ideal bin count? The optimal bin count is based on the intricacy of the image and the detail required for thorough analysis.\n",
    "\n",
    "4- What are the implications of having an extremely low or high bin count?\n",
    "\n",
    "\n",
    "\n",
    "- With a low bin count:\n",
    "\n",
    "1- The histogram lacks detail.\n",
    "\n",
    "2- Important nuances may be overlooked.\n",
    "\n",
    "3- Variations in the image might be too generalized.\n",
    "  \n",
    "- With a high bin count:\n",
    "  \n",
    "1-The histogram gains complexity\n",
    "\n",
    "2- It captures delicate differences effectively.\n",
    "\n",
    "3- However, it may also introduce excess noise and make interpretation harder."
   ]
  },
  {
   "cell_type": "markdown",
   "metadata": {
    "id": "4ecOWgER2U_n"
   },
   "source": [
    "\n",
    "*   Compute histogram of the color image (without converting it to grayscale).\n",
    "*   Plot the total histogram and also histogram for each channel (show it in a single plot with differnt legends for each histogram).\n"
   ]
  },
  {
   "cell_type": "code",
   "execution_count": 20,
   "metadata": {
    "id": "0R425Nve2Til"
   },
   "outputs": [],
   "source": [
    "#solution\n",
    "from skimage import data\n",
    "\n",
    "astronaut = data.astronaut()\n",
    "\n",
    "# Compute the histogram for each color channel (R, G, B)\n",
    "hist_r, bins_r = np.histogram(astronaut[:, :, 0], bins=256, range=(0, 256))\n",
    "hist_g, bins_g = np.histogram(astronaut[:, :, 1], bins=256, range=(0, 256))\n",
    "hist_b, bins_b = np.histogram(astronaut[:, :, 2], bins=256, range=(0, 256))\n",
    "\n",
    "# Compute the total histogram (sum of R, G, B histograms)\n",
    "hist_total = hist_r + hist_g + hist_b\n",
    "\n",
    "# Plot the histograms\n",
    "plt.figure(figsize=(10, 6))\n",
    "\n",
    "# Plot total histogram\n",
    "plt.plot(bins_r[:-1], hist_total, color='gray', label='Total Histogram', linestyle='--')\n",
    "\n",
    "# Plot individual channel histograms\n",
    "plt.plot(bins_r[:-1], hist_r, color='red', label='Red Channel')\n",
    "plt.plot(bins_r[:-1], hist_g, color='green', label='Green Channel')\n",
    "plt.plot(bins_r[:-1], hist_b, color='blue', label='Blue Channel')\n",
    "\n",
    "# Add titles and labels\n",
    "plt.title('Histograms for Astronaut Image (RGB Channels)')\n",
    "plt.xlabel('Pixel Intensity')\n",
    "plt.ylabel('Frequency')\n",
    "plt.legend()\n",
    "\n",
    "plt.show()\n"
   ]
  },
  {
   "cell_type": "markdown",
   "metadata": {
    "id": "vr9af6my4uKv"
   },
   "source": [
    "### **Exercise: Histogram Equalization**\n",
    "\n",
    "*   Read 'aquatermi_lowcontrast.jpg' image from the images folder.\n",
    "*   Compute the histogram of the image.\n",
    "*   Perform histogram equalization of the image to enhance the contrast. *Hint: Use equalize_hist function available in skimage.exposure*\n",
    "*   Also compute histogram of the equalized image.\n",
    "*   Use 2 x 2 subplot to show the original image and the enhanced image along with the corresponding histograms.\n",
    "\n"
   ]
  },
  {
   "cell_type": "code",
   "execution_count": null,
   "metadata": {
    "id": "0ROMuC8F6IYf"
   },
   "outputs": [],
   "source": [
    "# solution\n",
    "from skimage import data\n",
    "\n",
    "astronaut = data.astronaut()\n",
    "\n",
    "# Compute the histogram for each color channel (R, G, B)\n",
    "hist_r, bins_r = np.histogram(astronaut[:, :, 0], bins=256, range=(0, 256))\n",
    "hist_g, bins_g = np.histogram(astronaut[:, :, 1], bins=256, range=(0, 256))\n",
    "hist_b, bins_b = np.histogram(astronaut[:, :, 2], bins=256, range=(0, 256))\n",
    "\n",
    "# Compute the total histogram (sum of R, G, B histograms)\n",
    "hist_total = hist_r + hist_g + hist_b\n",
    "\n",
    "# Plot the histograms\n",
    "plt.figure(figsize=(10, 6))\n",
    "\n",
    "# Plot total histogram\n",
    "plt.plot(bins_r[:-1], hist_total, color='gray', label='Total Histogram', linestyle='--')\n",
    "\n",
    "# Plot individual channel histograms\n",
    "plt.plot(bins_r[:-1], hist_r, color='red', label='Red Channel')\n",
    "plt.plot(bins_r[:-1], hist_g, color='green', label='Green Channel')\n",
    "plt.plot(bins_r[:-1], hist_b, color='blue', label='Blue Channel')\n",
    "\n",
    "# Add titles and labels\n",
    "plt.title('Histograms for Astronaut Image (RGB Channels)')\n",
    "plt.xlabel('Pixel Intensity')\n",
    "plt.ylabel('Frequency')\n",
    "plt.legend()\n",
    "\n",
    "plt.show()\n"
   ]
  },
  {
   "cell_type": "markdown",
   "metadata": {
    "id": "IvDnkRKA8PXe"
   },
   "source": [
    "\n",
    "*   The above function in skimage.exposure uses cdf and interpolation technique to normalize the histogram. How is it different from linear contrast stretch?\n"
   ]
  },
  {
   "cell_type": "markdown",
   "metadata": {
    "id": "JOCa3PzJLhl0"
   },
   "source": [
    "**Solution**\n",
    "\n",
    "*Histogram Normalization adjusts pixel values to enhance contrast based on intensity distribution, often using methods like histogram equalization.*\n",
    "\n",
    "*Linear Contrast Stretching linearly scales pixel values to fit a specified range, maintaining the original distribution.*"
   ]
  },
  {
   "cell_type": "markdown",
   "metadata": {
    "id": "boFCTwGV8kaz"
   },
   "source": [
    "### **Exercise: Linear Contrast Stretch**\n",
    "\n",
    "*   Write a function to compute the linear contrast stretch (Do not use an inbuilt function). \n",
    "*   Provide grayscale image array and bin count as parameters to the function and return the enhanced image array.\n",
    "*   Use a 2 x 2 plot to visualize the original image, histogram, enhanced image and the corresponding histogram.\n",
    "\n"
   ]
  },
  {
   "cell_type": "code",
   "execution_count": null,
   "metadata": {
    "id": "l6mlhI_s8lLv"
   },
   "outputs": [],
   "source": [
    "# solution\n",
    "import cv2\n",
    "from skimage import exposure\n",
    "\n",
    "# Read the image\n",
    "img = cv2.imread(\"/Users/mayaralthebati/Desktop/EXC-ACADMY/aquatermi_lowcontrast.jpg\")\n",
    "\n",
    "# Convert the image to grayscale\n",
    "image_gray = cv2.cvtColor(img, cv2.COLOR_BGR2GRAY)\n",
    "\n",
    "# Compute the histogram of the original grayscale image\n",
    "hist_original, bins_original = np.histogram(image_gray, bins=256, range=(0, 256))\n",
    "\n",
    "# Perform histogram equalization\n",
    "image_equalized = exposure.equalize_hist(image_gray)\n",
    "\n",
    "# Compute the histogram of the equalized image\n",
    "hist_equalized, bins_equalized = np.histogram(image_equalized, bins=256, range=(0, 1))\n",
    "\n",
    "# Use 2 x 2 subplot to show the original image and the enhanced image along with the corresponding histograms\n",
    "fig, axes = plt.subplots(2, 2, figsize=(12, 10))\n",
    "\n",
    "# Display the original grayscale image\n",
    "axes[0, 0].imshow(image_gray, cmap='gray')\n",
    "axes[0, 0].set_title(\"Original Image\")\n",
    "axes[0, 0].axis('off')\n",
    "\n",
    "# Display the equalized grayscale image\n",
    "axes[0, 1].imshow(image_equalized, cmap='gray')\n",
    "axes[0, 1].set_title(\"Equalized Image\")\n",
    "axes[0, 1].axis('off')\n",
    "\n",
    "# Plot the histogram of the original image\n",
    "axes[1, 0].plot(bins_original[:-1], hist_original, color='black')\n",
    "axes[1, 0].set_title(\"Histogram of Original Image\")\n",
    "axes[1, 0].set_xlabel('Pixel Intensity')\n",
    "axes[1, 0].set_ylabel('Frequency')\n",
    "\n",
    "# Plot the histogram of the equalized image\n",
    "axes[1, 1].plot(bins_equalized[:-1], hist_equalized, color='black')\n",
    "axes[1, 1].set_title(\"Histogram of Equalized Image\")\n",
    "axes[1, 1].set_xlabel('Pixel Intensity')\n",
    "axes[1, 1].set_ylabel('Frequency')\n",
    "\n",
    "plt.tight_layout()\n",
    "plt.show()\n"
   ]
  },
  {
   "cell_type": "markdown",
   "metadata": {
    "id": "lfuWqX2BWyXm"
   },
   "source": [
    "# Filters\n",
    "\n",
    "### **Exercise: Mean Filter**\n",
    "\n",
    "*   Load the **coins** image from the data module.\n",
    "*   Define a disk structuring element (selem) of radius 20. *Hint: Structuring elements are defined in the skimage.morphology module*\n",
    "*   Use mean filter using the created selem. *Hint: The mean filter is available in skimage.filters.rank module*\n",
    "*   Increase the radius of the selem by 10 and apply the mean filter.\n",
    "*   Reduce the radius of the selem by 10 and apply the mean filter.\n",
    "*   Visualize all the smoothened images along with the original image.\n",
    "\n",
    "\n"
   ]
  },
  {
   "cell_type": "code",
   "execution_count": null,
   "metadata": {
    "id": "qp7_zxDjL7vS"
   },
   "outputs": [],
   "source": [
    "# solution\n",
    "from skimage import data, filters, morphology, img_as_ubyte\n",
    "from skimage.filters import rank\n",
    "from skimage.color import rgb2gray\n",
    "\n",
    "# Load the coins image\n",
    "coins = data.coins()\n",
    "\n",
    "# Ensure the image is in the correct format \n",
    "coins = img_as_ubyte(coins)\n",
    "\n",
    "# Define disk structuring elements of various radii\n",
    "selem_20 = morphology.disk(20)\n",
    "selem_30 = morphology.disk(30)  \n",
    "selem_10 = morphology.disk(10)  \n",
    "\n",
    "# Apply mean filters\n",
    "mean_filtered_20 = rank.mean(coins, selem_20)\n",
    "mean_filtered_30 = rank.mean(coins, selem_30)\n",
    "mean_filtered_10 = rank.mean(coins, selem_10)\n",
    "\n",
    "# Plot the original and filtered images\n",
    "fig, axes = plt.subplots(1, 4, figsize=(15, 5))\n",
    "axes[0].imshow(coins, cmap='gray')\n",
    "axes[0].set_title('Original Image')\n",
    "axes[1].imshow(mean_filtered_20, cmap='gray')\n",
    "axes[1].set_title('Mean Filter (radius 20)')\n",
    "axes[2].imshow(mean_filtered_30, cmap='gray')\n",
    "axes[2].set_title('Mean Filter (radius 30)')\n",
    "axes[3].imshow(mean_filtered_10, cmap='gray')\n",
    "axes[3].set_title('Mean Filter (radius 10)')\n",
    "\n",
    "# Remove axes ticks\n",
    "for ax in axes:\n",
    "    ax.axis('off')\n",
    "\n",
    "plt.tight_layout()\n",
    "plt.show()\n"
   ]
  },
  {
   "cell_type": "markdown",
   "metadata": {
    "id": "7DIOQCcsvEqG"
   },
   "source": [
    "*   Use different selem (square, rectangle, star, diamond) to view the behaviour of the mean filter (It is not necessary to repeat with different sizes; it is sufficient to show the one with optimal parameter).\n",
    "*   Create a 2 x n subplot to show the selem in the first row and the corresponding smoothened image in the second row."
   ]
  },
  {
   "cell_type": "code",
   "execution_count": null,
   "metadata": {
    "id": "3GbQXmYvvXUO"
   },
   "outputs": [],
   "source": [
    "# solution\n",
    "from skimage import data, filters, morphology, img_as_ubyte\n",
    "from skimage.filters import rank\n",
    "\n",
    "# Load the coins image\n",
    "coins = data.coins()\n",
    "coins = img_as_ubyte(coins)\n",
    "\n",
    "# Define different structuring elements\n",
    "selem_square = morphology.square(20)\n",
    "selem_rectangle = morphology.rectangle(20, 30)\n",
    "selem_star = morphology.star(20)\n",
    "selem_diamond = morphology.diamond(20)\n",
    "\n",
    "# Apply mean filters\n",
    "mean_square = rank.mean(coins, selem_square)\n",
    "mean_rectangle = rank.mean(coins, selem_rectangle)\n",
    "mean_star = rank.mean(coins, selem_star)\n",
    "mean_diamond = rank.mean(coins, selem_diamond)\n",
    "\n",
    "# Structuring elements and their corresponding filtered images\n",
    "selems = [selem_square, selem_rectangle, selem_star, selem_diamond]\n",
    "filtered_images = [mean_square, mean_rectangle, mean_star, mean_diamond]\n",
    "titles = ['Square', 'Rectangle', 'Star', 'Diamond']\n",
    "\n",
    "# Plot the structuring elements and filtered images\n",
    "fig, axes = plt.subplots(2, len(selems), figsize=(15, 8))\n",
    "\n",
    "for i, (selem, filtered, title) in enumerate(zip(selems, filtered_images, titles)):\n",
    "    # Display structuring element\n",
    "    axes[0, i].imshow(selem, cmap='gray')\n",
    "    axes[0, i].set_title(f'{title} Selem')\n",
    "    axes[0, i].axis('off')\n",
    "    \n",
    "    # Display filtered image\n",
    "    axes[1, i].imshow(filtered, cmap='gray')\n",
    "    axes[1, i].set_title(f'{title} Filtered')\n",
    "    axes[1, i].axis('off')\n",
    "\n",
    "plt.tight_layout()\n",
    "plt.show()\n"
   ]
  },
  {
   "cell_type": "markdown",
   "metadata": {
    "id": "jV7OHQwKZ9GU"
   },
   "source": [
    "*   How does changing the radius of disk affect the smoothing functionality?"
   ]
  },
  {
   "cell_type": "markdown",
   "metadata": {
    "id": "QG91LBzwMBUR"
   },
   "source": [
    "**Solution**\n",
    "\n",
    "*When the radius of the disk structuring element is increased, the mean filter takes into account a larger area, resulting in enhanced smoothing that blurs more details and edges. On the other hand, reducing the radius leads to a smaller area being considered, which retains more details and creates a milder smoothing effect.*\n",
    "\n"
   ]
  },
  {
   "cell_type": "markdown",
   "metadata": {
    "id": "mPJFLYMkMBqs"
   },
   "source": [
    "\n",
    "*   What is the observed behaviour with difference in the structuring element?\n",
    "\n"
   ]
  },
  {
   "cell_type": "markdown",
   "metadata": {
    "id": "hcJkpvnjMFY5"
   },
   "source": [
    "**Solution**\n",
    "\n",
    "*arious structuring elements influence smoothing patterns in different ways:*\n",
    "\n",
    "- Square and rectangular elements create blocky, grid-like smoothing.\n",
    "- Star-shaped elements produce a more angular, pointed effect.\n",
    "- Diamond shapes yield a smoother, rounded appearance.\n",
    "\n",
    "\n",
    "The choice of shape affects how neighboring pixels are averaged, resulting in unique smoothing behaviors"
   ]
  },
  {
   "cell_type": "markdown",
   "metadata": {
    "id": "v5hySxTKM4AB"
   },
   "source": [
    "\n",
    "\n",
    "*   What is the difference between mean filter and gaussian filter?\n",
    "*   Where do you use mean filters and where do you use gaussian filters?\n",
    "\n"
   ]
  },
  {
   "cell_type": "markdown",
   "metadata": {
    "id": "w0foSx_GNDB5"
   },
   "source": [
    "**Solution**\n",
    "\n",
    "**What is the difference between a mean filter and a Gaussian filter?**\n",
    "- The mean filter calculates the average of pixel values in a neighborhood, treating all pixels equally, which results in uniform blurring. In contrast, the Gaussian filter applies a weighted average, prioritizing nearby pixels, leading to smoother and more natural blurring.\n",
    "  \n",
    "**When to use mean filters and when to use Gaussian filters?**\n",
    "- Use mean filters for straightforward noise reduction and quick smoothing.\n",
    "- Use Gaussian filters for more sophisticated smoothing that preserves edges and achieves realistic blurring."
   ]
  }
 ],
 "metadata": {
  "colab": {
   "authorship_tag": "ABX9TyPs+7OmQKl06bCVLggAj4BU",
   "collapsed_sections": [],
   "provenance": []
  },
  "kernelspec": {
   "display_name": "Python [conda env:base] *",
   "language": "python",
   "name": "conda-base-py"
  },
  "language_info": {
   "codemirror_mode": {
    "name": "ipython",
    "version": 3
   },
   "file_extension": ".py",
   "mimetype": "text/x-python",
   "name": "python",
   "nbconvert_exporter": "python",
   "pygments_lexer": "ipython3",
   "version": "3.12.7"
  }
 },
 "nbformat": 4,
 "nbformat_minor": 4
}
